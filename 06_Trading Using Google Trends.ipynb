{
 "cells": [
  {
   "cell_type": "markdown",
   "metadata": {},
   "source": [
    "# Trading Using Google Trends"
   ]
  },
  {
   "cell_type": "markdown",
   "metadata": {},
   "source": [
    "Several years ago, a paper titled Quantifying Trading Behavior in Financial Markets Using Google Trends was published in Scientific Reports. This paper asked this question: \"Is it possible to predict efficient trading strategies based upon the frequency of certain words in Google searches?\"\n",
    "\n",
    "The authors went through a number of interesting steps involved in gathering data and performing analyses. They derived a set of financial keywords from the Financial Times website that they thought were good words for examining patterns of search for financial information.\n",
    "\n",
    "With this, they built a robust set of keywords using Google Sets (which is now defunct). Using those keywords, they collected Google Trends data on those words over a period of years and defined a trading execution plan to buy or sell based upon the changes in the search history on all of their terms. They ran the strategies for all the keywords and ranked the value of their investments for each search phrase.\n",
    "\n",
    "What was their conclusion? It appears to be very likely that this can be used to beat random investment in the S&P 500 index. This result is perhaps debatable, but the process itself is an interesting one to attempt using pandas. It demonstrates the bringing in of historical data from multiple sources and using the statistical analysis of one stream of data to make decisions on investing and valuating a portfolio based on another stream.\n",
    "\n",
    "In this session, we will investigate by gathering much of the data that they collected and in reproducing their results as closely as possible (and we will be very close to their results). All of the steps that they performed can be simply reproduced using pandas. Together, they provide an excellent example of social data collection and how it can be applied to make money. They also present a very interesting introduction to using pandas to develop trading strategies, which this book will now turn its attention to and run with for its remainder.\n",
    "\n",
    "We will go through the following topics in detail:\n",
    "- A brief summary of Quantifying Trading Behavior in Financial Markets Using Google Trends\n",
    "- Retrieving trend data from Google Trends\n",
    "- Obtaining Dow Jones Index data from Quandl\n",
    "- Generating trade orders\n",
    "- Calculating investment results\n",
    "- Conclusions"
   ]
  },
  {
   "cell_type": "markdown",
   "metadata": {},
   "source": [
    "# Notebook setup\n",
    "The workbook and examples will all require the following code to execute and format output. It is similar to the previous sessions but also includes matplotlib imports to support many of the graphics that will be created, several options to fit data to the page in the text, the CSV (comma separated value) framework and the RE (regular expression) framework. Here's the code I am talking about:"
   ]
  },
  {
   "cell_type": "code",
   "execution_count": 6,
   "metadata": {},
   "outputs": [],
   "source": [
    "# necessary imports for the workbook\n",
    "import pandas as pd\n",
    "import numpy as np\n",
    "import datetime as dt\n",
    "import matplotlib.pyplot as plt\n",
    "#import pandas.io.data as wb,data\n",
    "from pandas_datareader import wb"
   ]
  },
  {
   "cell_type": "markdown",
   "metadata": {},
   "source": [
    "# A brief on Quantifying Trading Behavior in Financial Markets Using Google Trends"
   ]
  },
  {
   "cell_type": "markdown",
   "metadata": {},
   "source": [
    "The authors of this paper state that financial markets are a prime target for investigating the prediction of market movements based upon the social habits of people searching for and gathering information to gain a competitive advantage in order to capture opportunities for personal financial gain.\n",
    "\n",
    "They go on to investigate whether search query data from Google Trends can historically be used to provide insights into the information gathering process that leads up to making trading decisions in the stock market.\n",
    "\n",
    "The authors gather data from Google Trends and Dow Jones Industrial Average (DJIA) for the period of 2004-01-01 to 2011-02-28. They seed the process with some financial terms (specifically the term, debt) that can yield a bias towards the search for financial results. They take the initial set of terms and then build a larger set of terms using Google Sets to suggest more search terms based upon the seed terms. They decide upon using 98 different search terms and analyze trading decisions made upon the volume of the searches on each of those terms.\n",
    "\n",
    "They use weekly DJIA closing values on the first trading day of the week, usually Monday but occasionally Tuesday. Google Trends data is reported on a Sunday through Saturday interval.\n",
    "\n",
    "To be able to relate search behavior in Google to market movements, the authors correlate the volumes of search terms relative to the movement of the DJIA. The authors then propose a trading strategy, where, if the average number of searches for a term on Google has increased at the end of a three-week window, then there should be an upturn in the market the following week. Therefore, a trader should take a long position, transferring all current holdings into the newly identified position. Given the property prediction of market gains, a profit will be made over that one week period due to the increase in the value of the investment.\n",
    "\n",
    "If the number of searches at the end of the three-week period has decreased from the previous three-week average, then we should go short and sell our holdings at the end of the first day of the next trading week, and then buy them back at the beginning of the next week. If the market moves down during this period, then we will have profited.\n",
    "\n",
    "The authors also present an analysis of the performance of their strategy. This analysis is based upon the search term \"debt\" and how their position increased based upon their strategy. This is represented in the following graph by the solid blue line and shows they produced 326 percent:\n",
    "\n",
    "<img src=\"https://raw.githubusercontent.com/safarini/Pictures/master/03.jpg\">\n",
    "\n",
    "A brief on Quantifying Trading Behavior in Financial Markets Using Google Trends\n",
    "The dashed lines represent the standard deviation of the cumulative return for a strategy that involves buying and selling financial instruments in an uncorrelated and random manner, and the results are derived from the simulation of 10,000 realizations of the random strategy. Their conclusion is that there is a significantly large enough difference in the results of their Google Trends strategy over the random strategies to determine that that is validity to their assertion.\n",
    "\n",
    "They do neglect transaction fees, stating that their strategy only involves 104 transactions per year but could have an effect on the results if taken into account. They state that they ignored the transaction fees as their goal is to determine the overall effectiveness of relating social data to market movement to gain advantage as a trader.\n",
    "\n",
    "In our analysis in this session, we will proceed with gathering Google Trends data for the search term \"debt\" for the same period of time as in the paper, along with DJIA data, and set up a model for replicating this investment strategy. Our goal is not to validate their research but to be able to learn various concepts and their implementation in Python with pandas. From this, you will learn valuable skills to obtain and relate data from disparate data feeds, model a trading strategy, and use a trading back-tester to evaluate the effectiveness of the strategies."
   ]
  },
  {
   "cell_type": "markdown",
   "metadata": {},
   "source": [
    "# Data collection\n",
    "Our goal will be to create a DataFrame, which contains both the authors' DJIA and Google Trends data combined with data that we also collect dynamically from the Web for each. We will check that our data conforms to what they had collected, and then we will use our data to simulate trades based upon their algorithm.\n",
    "\n",
    "The data used in the study is available on the Internet. I have included it in the examples for the text. But we will also dynamically collect this information to demonstrate those processes using pandas. We will perform the analysis both on the data provided by the authors as well as our freshly collected data.\n",
    "\n",
    "Unfortunately, but definitely not uncommon in the real world, we will also run into several snags in data collection that we need to work around. First, Yahoo! no longer provides DJIA data, so we can't fetch that data with the DataReader class of pandas. We will get around Yahoo! Finance no longer providing DJIA data using a web-based service named Quandl, which is a good service to also introduce to a reader of this text.\n",
    "\n",
    "Second, Google Sets, used by the authors to derive their search terms, is now defunct—having been turned off by Google. That is actually disappointing, but we are just going to model results on the single search term \"debt\", which the authors claim had the best results.\n",
    "\n",
    "Third, access to Google Trends data is, for lack of a better description, wonky. I will provide a .csv file that we will use, but we will also take time to discuss dynamically downloading the data."
   ]
  },
  {
   "cell_type": "markdown",
   "metadata": {},
   "source": [
    "# The data from the paper\n",
    "The data from the paper is available on the Internet, but I have also included it in the data folder of the code samples. It can be loaded into pandas using the following command:"
   ]
  },
  {
   "cell_type": "code",
   "execution_count": 10,
   "metadata": {},
   "outputs": [
    {
     "data": {
      "text/html": [
       "<div>\n",
       "<style scoped>\n",
       "    .dataframe tbody tr th:only-of-type {\n",
       "        vertical-align: middle;\n",
       "    }\n",
       "\n",
       "    .dataframe tbody tr th {\n",
       "        vertical-align: top;\n",
       "    }\n",
       "\n",
       "    .dataframe thead th {\n",
       "        text-align: right;\n",
       "    }\n",
       "</style>\n",
       "<table border=\"1\" class=\"dataframe\">\n",
       "  <thead>\n",
       "    <tr style=\"text-align: right;\">\n",
       "      <th></th>\n",
       "      <th>Google Start Date</th>\n",
       "      <th>Google End Date</th>\n",
       "      <th>arts</th>\n",
       "      <th>banking</th>\n",
       "      <th>bonds</th>\n",
       "      <th>bubble</th>\n",
       "      <th>buy</th>\n",
       "      <th>cancer</th>\n",
       "      <th>car</th>\n",
       "      <th>cash</th>\n",
       "      <th>...</th>\n",
       "      <th>trader</th>\n",
       "      <th>train</th>\n",
       "      <th>transaction</th>\n",
       "      <th>travel</th>\n",
       "      <th>unemployment</th>\n",
       "      <th>war</th>\n",
       "      <th>water</th>\n",
       "      <th>world</th>\n",
       "      <th>DJIA Date</th>\n",
       "      <th>DJIA Closing Price</th>\n",
       "    </tr>\n",
       "  </thead>\n",
       "  <tbody>\n",
       "    <tr>\n",
       "      <th>0</th>\n",
       "      <td>2004-01-04</td>\n",
       "      <td>2004-01-10</td>\n",
       "      <td>0.956667</td>\n",
       "      <td>0.193333</td>\n",
       "      <td>0.203333</td>\n",
       "      <td>0.183333</td>\n",
       "      <td>2.41667</td>\n",
       "      <td>0.913333</td>\n",
       "      <td>4.19333</td>\n",
       "      <td>0.326667</td>\n",
       "      <td>...</td>\n",
       "      <td>0.346667</td>\n",
       "      <td>0.706667</td>\n",
       "      <td>0.050000</td>\n",
       "      <td>2.06000</td>\n",
       "      <td>0.336667</td>\n",
       "      <td>2.02000</td>\n",
       "      <td>1.91333</td>\n",
       "      <td>4.83333</td>\n",
       "      <td>2004-01-12</td>\n",
       "      <td>10485.18</td>\n",
       "    </tr>\n",
       "    <tr>\n",
       "      <th>1</th>\n",
       "      <td>2004-01-11</td>\n",
       "      <td>2004-01-17</td>\n",
       "      <td>0.970000</td>\n",
       "      <td>0.203333</td>\n",
       "      <td>0.186667</td>\n",
       "      <td>0.190000</td>\n",
       "      <td>2.31667</td>\n",
       "      <td>0.940000</td>\n",
       "      <td>4.22000</td>\n",
       "      <td>0.320000</td>\n",
       "      <td>...</td>\n",
       "      <td>0.346667</td>\n",
       "      <td>0.676667</td>\n",
       "      <td>0.050000</td>\n",
       "      <td>2.05333</td>\n",
       "      <td>0.296667</td>\n",
       "      <td>2.09333</td>\n",
       "      <td>1.93333</td>\n",
       "      <td>4.76667</td>\n",
       "      <td>2004-01-20</td>\n",
       "      <td>10528.66</td>\n",
       "    </tr>\n",
       "    <tr>\n",
       "      <th>2</th>\n",
       "      <td>2004-01-18</td>\n",
       "      <td>2004-01-24</td>\n",
       "      <td>0.926667</td>\n",
       "      <td>0.196667</td>\n",
       "      <td>0.190000</td>\n",
       "      <td>0.173333</td>\n",
       "      <td>2.35000</td>\n",
       "      <td>0.906667</td>\n",
       "      <td>4.10667</td>\n",
       "      <td>0.320000</td>\n",
       "      <td>...</td>\n",
       "      <td>0.356667</td>\n",
       "      <td>0.713333</td>\n",
       "      <td>0.056667</td>\n",
       "      <td>2.01333</td>\n",
       "      <td>0.310000</td>\n",
       "      <td>1.97333</td>\n",
       "      <td>1.89333</td>\n",
       "      <td>4.60000</td>\n",
       "      <td>2004-01-26</td>\n",
       "      <td>10702.51</td>\n",
       "    </tr>\n",
       "    <tr>\n",
       "      <th>3</th>\n",
       "      <td>2004-01-25</td>\n",
       "      <td>2004-01-31</td>\n",
       "      <td>0.950000</td>\n",
       "      <td>0.196667</td>\n",
       "      <td>0.180000</td>\n",
       "      <td>0.196667</td>\n",
       "      <td>2.26667</td>\n",
       "      <td>0.906667</td>\n",
       "      <td>3.99333</td>\n",
       "      <td>0.330000</td>\n",
       "      <td>...</td>\n",
       "      <td>0.336667</td>\n",
       "      <td>0.710000</td>\n",
       "      <td>0.060000</td>\n",
       "      <td>1.91333</td>\n",
       "      <td>0.296667</td>\n",
       "      <td>1.90667</td>\n",
       "      <td>1.92000</td>\n",
       "      <td>4.53333</td>\n",
       "      <td>2004-02-02</td>\n",
       "      <td>10499.18</td>\n",
       "    </tr>\n",
       "    <tr>\n",
       "      <th>4</th>\n",
       "      <td>2004-02-01</td>\n",
       "      <td>2004-02-07</td>\n",
       "      <td>0.893333</td>\n",
       "      <td>0.203333</td>\n",
       "      <td>0.183333</td>\n",
       "      <td>0.173333</td>\n",
       "      <td>2.08333</td>\n",
       "      <td>0.913333</td>\n",
       "      <td>3.84000</td>\n",
       "      <td>0.303333</td>\n",
       "      <td>...</td>\n",
       "      <td>0.326667</td>\n",
       "      <td>0.630000</td>\n",
       "      <td>0.050000</td>\n",
       "      <td>1.76667</td>\n",
       "      <td>0.290000</td>\n",
       "      <td>2.08667</td>\n",
       "      <td>1.88667</td>\n",
       "      <td>4.53333</td>\n",
       "      <td>2004-02-09</td>\n",
       "      <td>10579.03</td>\n",
       "    </tr>\n",
       "  </tbody>\n",
       "</table>\n",
       "<p>5 rows × 102 columns</p>\n",
       "</div>"
      ],
      "text/plain": [
       "  Google Start Date Google End Date      arts   banking     bonds    bubble  \\\n",
       "0        2004-01-04      2004-01-10  0.956667  0.193333  0.203333  0.183333   \n",
       "1        2004-01-11      2004-01-17  0.970000  0.203333  0.186667  0.190000   \n",
       "2        2004-01-18      2004-01-24  0.926667  0.196667  0.190000  0.173333   \n",
       "3        2004-01-25      2004-01-31  0.950000  0.196667  0.180000  0.196667   \n",
       "4        2004-02-01      2004-02-07  0.893333  0.203333  0.183333  0.173333   \n",
       "\n",
       "       buy    cancer      car      cash  ...    trader     train  transaction  \\\n",
       "0  2.41667  0.913333  4.19333  0.326667  ...  0.346667  0.706667     0.050000   \n",
       "1  2.31667  0.940000  4.22000  0.320000  ...  0.346667  0.676667     0.050000   \n",
       "2  2.35000  0.906667  4.10667  0.320000  ...  0.356667  0.713333     0.056667   \n",
       "3  2.26667  0.906667  3.99333  0.330000  ...  0.336667  0.710000     0.060000   \n",
       "4  2.08333  0.913333  3.84000  0.303333  ...  0.326667  0.630000     0.050000   \n",
       "\n",
       "    travel  unemployment      war    water    world  DJIA Date  \\\n",
       "0  2.06000      0.336667  2.02000  1.91333  4.83333 2004-01-12   \n",
       "1  2.05333      0.296667  2.09333  1.93333  4.76667 2004-01-20   \n",
       "2  2.01333      0.310000  1.97333  1.89333  4.60000 2004-01-26   \n",
       "3  1.91333      0.296667  1.90667  1.92000  4.53333 2004-02-02   \n",
       "4  1.76667      0.290000  2.08667  1.88667  4.53333 2004-02-09   \n",
       "\n",
       "   DJIA Closing Price  \n",
       "0            10485.18  \n",
       "1            10528.66  \n",
       "2            10702.51  \n",
       "3            10499.18  \n",
       "4            10579.03  \n",
       "\n",
       "[5 rows x 102 columns]"
      ]
     },
     "execution_count": 10,
     "metadata": {},
     "output_type": "execute_result"
    }
   ],
   "source": [
    "# this is the same DJIA data from the authors\n",
    "paper = pd.read_csv('data\\PreisMoatStanley2013.dat', \n",
    "                    delimiter=' ', \n",
    "                    parse_dates=[0,1,100,101])\n",
    "paper[:5]"
   ]
  },
  {
   "cell_type": "markdown",
   "metadata": {},
   "source": [
    "The data from the paper is a single file containing all of the DJIA data combined with a normalization of the search volume for each of their 98 keywords. Each keyword used for a search is represented as a column.\n",
    "\n",
    "We want to extract from each row the values in the debt column, the Google Trends Week End date, and the closing price and date for the DJIA. We can do this with the following pandas code:"
   ]
  },
  {
   "cell_type": "code",
   "execution_count": 11,
   "metadata": {},
   "outputs": [
    {
     "data": {
      "text/html": [
       "<div>\n",
       "<style scoped>\n",
       "    .dataframe tbody tr th:only-of-type {\n",
       "        vertical-align: middle;\n",
       "    }\n",
       "\n",
       "    .dataframe tbody tr th {\n",
       "        vertical-align: top;\n",
       "    }\n",
       "\n",
       "    .dataframe thead th {\n",
       "        text-align: right;\n",
       "    }\n",
       "</style>\n",
       "<table border=\"1\" class=\"dataframe\">\n",
       "  <thead>\n",
       "    <tr style=\"text-align: right;\">\n",
       "      <th></th>\n",
       "      <th>GoogleWE</th>\n",
       "      <th>debt</th>\n",
       "      <th>DJIADate</th>\n",
       "      <th>DJIAClose</th>\n",
       "    </tr>\n",
       "  </thead>\n",
       "  <tbody>\n",
       "    <tr>\n",
       "      <th>0</th>\n",
       "      <td>2004-01-10</td>\n",
       "      <td>0.210000</td>\n",
       "      <td>2004-01-12</td>\n",
       "      <td>10485.18</td>\n",
       "    </tr>\n",
       "    <tr>\n",
       "      <th>1</th>\n",
       "      <td>2004-01-17</td>\n",
       "      <td>0.210000</td>\n",
       "      <td>2004-01-20</td>\n",
       "      <td>10528.66</td>\n",
       "    </tr>\n",
       "    <tr>\n",
       "      <th>2</th>\n",
       "      <td>2004-01-24</td>\n",
       "      <td>0.210000</td>\n",
       "      <td>2004-01-26</td>\n",
       "      <td>10702.51</td>\n",
       "    </tr>\n",
       "    <tr>\n",
       "      <th>3</th>\n",
       "      <td>2004-01-31</td>\n",
       "      <td>0.213333</td>\n",
       "      <td>2004-02-02</td>\n",
       "      <td>10499.18</td>\n",
       "    </tr>\n",
       "    <tr>\n",
       "      <th>4</th>\n",
       "      <td>2004-02-07</td>\n",
       "      <td>0.200000</td>\n",
       "      <td>2004-02-09</td>\n",
       "      <td>10579.03</td>\n",
       "    </tr>\n",
       "  </tbody>\n",
       "</table>\n",
       "</div>"
      ],
      "text/plain": [
       "    GoogleWE      debt   DJIADate  DJIAClose\n",
       "0 2004-01-10  0.210000 2004-01-12   10485.18\n",
       "1 2004-01-17  0.210000 2004-01-20   10528.66\n",
       "2 2004-01-24  0.210000 2004-01-26   10702.51\n",
       "3 2004-01-31  0.213333 2004-02-02   10499.18\n",
       "4 2004-02-07  0.200000 2004-02-09   10579.03"
      ]
     },
     "execution_count": 11,
     "metadata": {},
     "output_type": "execute_result"
    }
   ],
   "source": [
    "data = pd.DataFrame({'GoogleWE': paper['Google End Date'],\n",
    "                     'debt': paper['debt'].astype(np.float64),\n",
    "                     'DJIADate': paper['DJIA Date'],\n",
    "                     'DJIAClose': paper['DJIA Closing Price']\n",
    "                         .astype(np.float64)})\n",
    "data[:5]"
   ]
  },
  {
   "cell_type": "markdown",
   "metadata": {},
   "source": [
    "The paper's Google Trends data has been normalized relative to all of their resulting searches. We will see the raw values when we get this data on our own. The important thing with this data is not actually the value but the change in value over time, which can be used to represent the relative change in search volumes for the given period."
   ]
  },
  {
   "cell_type": "markdown",
   "metadata": {},
   "source": [
    "# Gathering our own DJIA data from Quandl\n",
    "It has historically been possible to retrieve DJIA data from Yahoo! Finance using the pandas DataReader class. Unfortunately, Yahoo! has stopped providing DJIA data, so we need an alternative to get this data. We can retrieve this data from Quandl (https://www.quandl.com/). Quandl is a provider of datasets specifically related to quantitative analysis. An account can be created for free, and they provide API-based access to their data. They also provide client libraries for multiple languages, including Python, Java, and C#. In session 1, Getting Started with pandas Using Wakari.io, we added their library to our Python environment."
   ]
  },
  {
   "cell_type": "markdown",
   "metadata": {},
   "source": [
    "Alternatively, you can load this data from a file provided with the code packet for the text:"
   ]
  },
  {
   "cell_type": "code",
   "execution_count": 16,
   "metadata": {},
   "outputs": [],
   "source": [
    "djia = pd.read_csv(\"data\\djia.csv\", index_col=0)"
   ]
  },
  {
   "cell_type": "markdown",
   "metadata": {},
   "source": [
    "The following command gives us an overview of the data that was retrieved. It is a set of daily variables from the DJIA between and including the specified dates:"
   ]
  },
  {
   "cell_type": "code",
   "execution_count": 17,
   "metadata": {},
   "outputs": [
    {
     "data": {
      "text/html": [
       "<div>\n",
       "<style scoped>\n",
       "    .dataframe tbody tr th:only-of-type {\n",
       "        vertical-align: middle;\n",
       "    }\n",
       "\n",
       "    .dataframe tbody tr th {\n",
       "        vertical-align: top;\n",
       "    }\n",
       "\n",
       "    .dataframe thead th {\n",
       "        text-align: right;\n",
       "    }\n",
       "</style>\n",
       "<table border=\"1\" class=\"dataframe\">\n",
       "  <thead>\n",
       "    <tr style=\"text-align: right;\">\n",
       "      <th></th>\n",
       "      <th>Open</th>\n",
       "      <th>High</th>\n",
       "      <th>Low</th>\n",
       "      <th>Close</th>\n",
       "      <th>Volume</th>\n",
       "      <th>Adjusted Close</th>\n",
       "    </tr>\n",
       "    <tr>\n",
       "      <th>Date</th>\n",
       "      <th></th>\n",
       "      <th></th>\n",
       "      <th></th>\n",
       "      <th></th>\n",
       "      <th></th>\n",
       "      <th></th>\n",
       "    </tr>\n",
       "  </thead>\n",
       "  <tbody>\n",
       "    <tr>\n",
       "      <th>2004-01-02</th>\n",
       "      <td>10452.7</td>\n",
       "      <td>10527.0</td>\n",
       "      <td>10384.3</td>\n",
       "      <td>10409.9</td>\n",
       "      <td>1688900.0</td>\n",
       "      <td>10409.9</td>\n",
       "    </tr>\n",
       "    <tr>\n",
       "      <th>2004-01-05</th>\n",
       "      <td>10411.9</td>\n",
       "      <td>10544.1</td>\n",
       "      <td>10411.9</td>\n",
       "      <td>10544.1</td>\n",
       "      <td>2212900.0</td>\n",
       "      <td>10544.1</td>\n",
       "    </tr>\n",
       "    <tr>\n",
       "      <th>2004-01-06</th>\n",
       "      <td>10543.9</td>\n",
       "      <td>10549.2</td>\n",
       "      <td>10499.9</td>\n",
       "      <td>10538.7</td>\n",
       "      <td>1914600.0</td>\n",
       "      <td>10538.7</td>\n",
       "    </tr>\n",
       "  </tbody>\n",
       "</table>\n",
       "</div>"
      ],
      "text/plain": [
       "               Open     High      Low    Close     Volume  Adjusted Close\n",
       "Date                                                                     \n",
       "2004-01-02  10452.7  10527.0  10384.3  10409.9  1688900.0         10409.9\n",
       "2004-01-05  10411.9  10544.1  10411.9  10544.1  2212900.0         10544.1\n",
       "2004-01-06  10543.9  10549.2  10499.9  10538.7  1914600.0         10538.7"
      ]
     },
     "execution_count": 17,
     "metadata": {},
     "output_type": "execute_result"
    }
   ],
   "source": [
    "djia[:3]"
   ]
  },
  {
   "cell_type": "markdown",
   "metadata": {},
   "source": [
    "We would now like to merge the Close values in this data into our DataFrame. We will want to do this by aligning our dates with the data in the DJIADate column. We also want to drop all of the days the data of which does not align. We can do this simply with a pandas merge. To perform this, we first need to extract the Close values and move the dates from the index to a column, as shown here:"
   ]
  },
  {
   "cell_type": "code",
   "execution_count": 18,
   "metadata": {},
   "outputs": [
    {
     "data": {
      "text/html": [
       "<div>\n",
       "<style scoped>\n",
       "    .dataframe tbody tr th:only-of-type {\n",
       "        vertical-align: middle;\n",
       "    }\n",
       "\n",
       "    .dataframe tbody tr th {\n",
       "        vertical-align: top;\n",
       "    }\n",
       "\n",
       "    .dataframe thead th {\n",
       "        text-align: right;\n",
       "    }\n",
       "</style>\n",
       "<table border=\"1\" class=\"dataframe\">\n",
       "  <thead>\n",
       "    <tr style=\"text-align: right;\">\n",
       "      <th></th>\n",
       "      <th>Date</th>\n",
       "      <th>Close</th>\n",
       "    </tr>\n",
       "  </thead>\n",
       "  <tbody>\n",
       "    <tr>\n",
       "      <th>0</th>\n",
       "      <td>2004-01-02</td>\n",
       "      <td>10409.9</td>\n",
       "    </tr>\n",
       "    <tr>\n",
       "      <th>1</th>\n",
       "      <td>2004-01-05</td>\n",
       "      <td>10544.1</td>\n",
       "    </tr>\n",
       "    <tr>\n",
       "      <th>2</th>\n",
       "      <td>2004-01-06</td>\n",
       "      <td>10538.7</td>\n",
       "    </tr>\n",
       "  </tbody>\n",
       "</table>\n",
       "</div>"
      ],
      "text/plain": [
       "         Date    Close\n",
       "0  2004-01-02  10409.9\n",
       "1  2004-01-05  10544.1\n",
       "2  2004-01-06  10538.7"
      ]
     },
     "execution_count": 18,
     "metadata": {},
     "output_type": "execute_result"
    }
   ],
   "source": [
    "djia_closes = djia['Close'].reset_index()\n",
    "djia_closes[:3]"
   ]
  },
  {
   "cell_type": "markdown",
   "metadata": {},
   "source": [
    "Now, we will create a new DataFrame object with the two datasets merged based upon the DJIADate and Date columns from the two respective DataFrame objects (we drop the DJIADate column from the result as it is redundant and set Date to be the index), as follows:"
   ]
  },
  {
   "cell_type": "code",
   "execution_count": 38,
   "metadata": {},
   "outputs": [],
   "source": [
    "djia_closes['Date'] = pd.to_datetime(djia_closes['Date'])"
   ]
  },
  {
   "cell_type": "code",
   "execution_count": 39,
   "metadata": {},
   "outputs": [
    {
     "data": {
      "text/html": [
       "<div>\n",
       "<style scoped>\n",
       "    .dataframe tbody tr th:only-of-type {\n",
       "        vertical-align: middle;\n",
       "    }\n",
       "\n",
       "    .dataframe tbody tr th {\n",
       "        vertical-align: top;\n",
       "    }\n",
       "\n",
       "    .dataframe thead th {\n",
       "        text-align: right;\n",
       "    }\n",
       "</style>\n",
       "<table border=\"1\" class=\"dataframe\">\n",
       "  <thead>\n",
       "    <tr style=\"text-align: right;\">\n",
       "      <th></th>\n",
       "      <th>GoogleWE</th>\n",
       "      <th>debt</th>\n",
       "      <th>DJIAClose</th>\n",
       "      <th>Close</th>\n",
       "    </tr>\n",
       "    <tr>\n",
       "      <th>Date</th>\n",
       "      <th></th>\n",
       "      <th></th>\n",
       "      <th></th>\n",
       "      <th></th>\n",
       "    </tr>\n",
       "  </thead>\n",
       "  <tbody>\n",
       "    <tr>\n",
       "      <th>2004-01-12</th>\n",
       "      <td>2004-01-10</td>\n",
       "      <td>0.21</td>\n",
       "      <td>10485.18</td>\n",
       "      <td>10485.2</td>\n",
       "    </tr>\n",
       "    <tr>\n",
       "      <th>2004-01-20</th>\n",
       "      <td>2004-01-17</td>\n",
       "      <td>0.21</td>\n",
       "      <td>10528.66</td>\n",
       "      <td>10528.7</td>\n",
       "    </tr>\n",
       "    <tr>\n",
       "      <th>2004-01-26</th>\n",
       "      <td>2004-01-24</td>\n",
       "      <td>0.21</td>\n",
       "      <td>10702.51</td>\n",
       "      <td>10702.5</td>\n",
       "    </tr>\n",
       "  </tbody>\n",
       "</table>\n",
       "</div>"
      ],
      "text/plain": [
       "             GoogleWE  debt  DJIAClose    Close\n",
       "Date                                           \n",
       "2004-01-12 2004-01-10  0.21   10485.18  10485.2\n",
       "2004-01-20 2004-01-17  0.21   10528.66  10528.7\n",
       "2004-01-26 2004-01-24  0.21   10702.51  10702.5"
      ]
     },
     "execution_count": 39,
     "metadata": {},
     "output_type": "execute_result"
    }
   ],
   "source": [
    "data = data.merge(djia_closes,on=None,left_on='DJIADate', right_on='Date')\n",
    "data.drop(['DJIADate'], inplace=True, axis=1)\n",
    "data = data.set_index('Date')\n",
    "data[:3]"
   ]
  },
  {
   "cell_type": "markdown",
   "metadata": {},
   "source": [
    "Upon examining this data, it is evident that there is a fairly good match between the DJIA closing prices. If we plot both series next to each other, we will see that they are practically identical. The following is the command to plot the data:"
   ]
  },
  {
   "cell_type": "code",
   "execution_count": 40,
   "metadata": {},
   "outputs": [
    {
     "data": {
      "image/png": "[encoded data removed]",
      "text/plain": [
       "<Figure size 864x576 with 1 Axes>"
      ]
     },
     "metadata": {
      "needs_background": "light"
     },
     "output_type": "display_data"
    }
   ],
   "source": [
    "data[['DJIAClose', 'Close']].plot(figsize=(12,8));"
   ]
  },
  {
   "cell_type": "markdown",
   "metadata": {},
   "source": [
    "We can also check the statistics of the differences in the values, as shown here:"
   ]
  },
  {
   "cell_type": "code",
   "execution_count": 41,
   "metadata": {},
   "outputs": [
    {
     "data": {
      "text/plain": [
       "count    373.000000\n",
       "mean      -0.004933\n",
       "std        0.030032\n",
       "min       -0.050000\n",
       "25%       -0.030000\n",
       "50%       -0.010000\n",
       "75%        0.020000\n",
       "max        0.040000\n",
       "dtype: float64"
      ]
     },
     "execution_count": 41,
     "metadata": {},
     "output_type": "execute_result"
    }
   ],
   "source": [
    "(data['DJIAClose']-data['Close']).describe()"
   ]
  },
  {
   "cell_type": "markdown",
   "metadata": {},
   "source": [
    "The overall differences appear to be well less than one-tenth of a point and seem likely to be just from rounding errors.\n",
    "\n",
    "One final check can examine the correlation of the two series of data:"
   ]
  },
  {
   "cell_type": "code",
   "execution_count": 42,
   "metadata": {},
   "outputs": [
    {
     "data": {
      "text/html": [
       "<div>\n",
       "<style scoped>\n",
       "    .dataframe tbody tr th:only-of-type {\n",
       "        vertical-align: middle;\n",
       "    }\n",
       "\n",
       "    .dataframe tbody tr th {\n",
       "        vertical-align: top;\n",
       "    }\n",
       "\n",
       "    .dataframe thead th {\n",
       "        text-align: right;\n",
       "    }\n",
       "</style>\n",
       "<table border=\"1\" class=\"dataframe\">\n",
       "  <thead>\n",
       "    <tr style=\"text-align: right;\">\n",
       "      <th></th>\n",
       "      <th>DJIAClose</th>\n",
       "      <th>Close</th>\n",
       "    </tr>\n",
       "  </thead>\n",
       "  <tbody>\n",
       "    <tr>\n",
       "      <th>DJIAClose</th>\n",
       "      <td>1.0</td>\n",
       "      <td>1.0</td>\n",
       "    </tr>\n",
       "    <tr>\n",
       "      <th>Close</th>\n",
       "      <td>1.0</td>\n",
       "      <td>1.0</td>\n",
       "    </tr>\n",
       "  </tbody>\n",
       "</table>\n",
       "</div>"
      ],
      "text/plain": [
       "           DJIAClose  Close\n",
       "DJIAClose        1.0    1.0\n",
       "Close            1.0    1.0"
      ]
     },
     "execution_count": 42,
     "metadata": {},
     "output_type": "execute_result"
    }
   ],
   "source": [
    "data[['DJIAClose', 'Close']].corr()"
   ]
  },
  {
   "cell_type": "markdown",
   "metadata": {},
   "source": [
    "There is a perfect positive correlation. With this summarizing performed, we can have strong confidence that our data is prepared properly."
   ]
  },
  {
   "cell_type": "markdown",
   "metadata": {},
   "source": [
    "# Google Trends data\n",
    "The authors provided their own version of Google Trends data for the term \"debt\". This is convenient, but we want to get our own Google Trends data. Unfortunately, there does not currently appear to be any API access to this data. But there are several ways that we can go about retrieving it. One way is to use the mechanize framework to automate a web-crawling process. Another way, which is what we will do, is to use the web portal to download the CSV for the data we want.\n",
    "\n",
    "You can search in your browser for any term and get the associated trend data at http://www.google.com/trends/. The following command demonstrates the result of searching for the term debt:\n",
    "\n",
    "<img src=\"https://raw.githubusercontent.com/safarini/Pictures/master/04.jpg\" align=\"center\" width=\"500\" ></center>\n",
    "\n",
    "This is pretty but not usable in our pandas application. Fortunately, if we go to the options button, we see the option Download as CSV, as shown in the following screenshot:\n",
    "\n",
    "<img src=\"https://raw.githubusercontent.com/safarini/Pictures/master/05.jpg\"  align=\"center\" width=\"500\" ></center>\n",
    "\n",
    "You can download this for yourself. The data is also provided in the data folder of the samples for the book. The name of the file is trends_report_debt.csv. The following command shows the contents of the first few lines of the file:\n"
   ]
  },
  {
   "cell_type": "code",
   "execution_count": 46,
   "metadata": {},
   "outputs": [],
   "source": [
    "# peek at the report for debt in the data folder\n",
    "# head trends_report_debt.csv # on mac or linux\n",
    "# type trends_report_debt.csv # on windows"
   ]
  },
  {
   "cell_type": "markdown",
   "metadata": {},
   "source": [
    "This is not a particularly friendly CSV file, and we need to do a little bit of processing to extract the data properly. The following command reads the file and selects trend data in the range of dates we are working with:"
   ]
  },
  {
   "cell_type": "code",
   "execution_count": 53,
   "metadata": {},
   "outputs": [],
   "source": [
    "try:\n",
    "    from StringIO import StringIO ## for Python 2\n",
    "except ImportError:\n",
    "    from io import StringIO ## for Python 3"
   ]
  },
  {
   "cell_type": "code",
   "execution_count": 58,
   "metadata": {},
   "outputs": [
    {
     "data": {
      "text/html": [
       "<div>\n",
       "<style scoped>\n",
       "    .dataframe tbody tr th:only-of-type {\n",
       "        vertical-align: middle;\n",
       "    }\n",
       "\n",
       "    .dataframe tbody tr th {\n",
       "        vertical-align: top;\n",
       "    }\n",
       "\n",
       "    .dataframe thead th {\n",
       "        text-align: right;\n",
       "    }\n",
       "</style>\n",
       "<table border=\"1\" class=\"dataframe\">\n",
       "  <thead>\n",
       "    <tr style=\"text-align: right;\">\n",
       "      <th></th>\n",
       "      <th>Week</th>\n",
       "      <th>debt</th>\n",
       "    </tr>\n",
       "  </thead>\n",
       "  <tbody>\n",
       "    <tr>\n",
       "      <th>0</th>\n",
       "      <td>2004-01-10</td>\n",
       "      <td>63</td>\n",
       "    </tr>\n",
       "    <tr>\n",
       "      <th>1</th>\n",
       "      <td>2004-01-17</td>\n",
       "      <td>60</td>\n",
       "    </tr>\n",
       "    <tr>\n",
       "      <th>2</th>\n",
       "      <td>2004-01-24</td>\n",
       "      <td>61</td>\n",
       "    </tr>\n",
       "    <tr>\n",
       "      <th>3</th>\n",
       "      <td>2004-01-31</td>\n",
       "      <td>63</td>\n",
       "    </tr>\n",
       "    <tr>\n",
       "      <th>4</th>\n",
       "      <td>2004-02-07</td>\n",
       "      <td>61</td>\n",
       "    </tr>\n",
       "  </tbody>\n",
       "</table>\n",
       "</div>"
      ],
      "text/plain": [
       "        Week  debt\n",
       "0 2004-01-10    63\n",
       "1 2004-01-17    60\n",
       "2 2004-01-24    61\n",
       "3 2004-01-31    63\n",
       "4 2004-02-07    61"
      ]
     },
     "execution_count": 58,
     "metadata": {},
     "output_type": "execute_result"
    }
   ],
   "source": [
    "\n",
    "with open(\"data/trends_report_debt.csv\") as f:\n",
    "    data_section = f.read().split('\\n\\n')[1]\n",
    "    trends_data = pd.read_csv(\n",
    "        StringIO(data_section),\n",
    "        header=1, index_col='Week',\n",
    "        converters={\n",
    "            'Week': lambda x: pd.to_datetime(x.split(' ')[-1])\n",
    "        }\n",
    "    )\n",
    "our_debt_trends = trends_data['2004-01-01':'2011-02-28'] \\\n",
    "                              .reset_index()\n",
    "our_debt_trends[:5]"
   ]
  },
  {
   "cell_type": "markdown",
   "metadata": {},
   "source": [
    "The numbers do not represent an actual count of the number of searches. It is simply a number provided by Google that you can use to compare with the other periods in the dataset to get a sense of how the volume changes. I'm sorry about the fact that they keep the good data to themselves, but there is enough here for us to work with.\n",
    "\n",
    "We can start by combining this data into our dataset and check how well they conform. We will do the same as before and use pd.merge(). This time, we will join on the GoogleWE column on the left and the Week column on the right. The following command performs the merge, renames debt columns, and moves the indexes around:"
   ]
  },
  {
   "cell_type": "code",
   "execution_count": 59,
   "metadata": {},
   "outputs": [
    {
     "data": {
      "text/html": [
       "<div>\n",
       "<style scoped>\n",
       "    .dataframe tbody tr th:only-of-type {\n",
       "        vertical-align: middle;\n",
       "    }\n",
       "\n",
       "    .dataframe tbody tr th {\n",
       "        vertical-align: top;\n",
       "    }\n",
       "\n",
       "    .dataframe thead th {\n",
       "        text-align: right;\n",
       "    }\n",
       "</style>\n",
       "<table border=\"1\" class=\"dataframe\">\n",
       "  <thead>\n",
       "    <tr style=\"text-align: right;\">\n",
       "      <th></th>\n",
       "      <th>GoogleWE</th>\n",
       "      <th>debtP</th>\n",
       "      <th>DJIAClose</th>\n",
       "      <th>Close</th>\n",
       "      <th>debtO</th>\n",
       "    </tr>\n",
       "    <tr>\n",
       "      <th>Date</th>\n",
       "      <th></th>\n",
       "      <th></th>\n",
       "      <th></th>\n",
       "      <th></th>\n",
       "      <th></th>\n",
       "    </tr>\n",
       "  </thead>\n",
       "  <tbody>\n",
       "    <tr>\n",
       "      <th>2004-01-12</th>\n",
       "      <td>2004-01-10</td>\n",
       "      <td>0.210000</td>\n",
       "      <td>10485.18</td>\n",
       "      <td>10485.2</td>\n",
       "      <td>63</td>\n",
       "    </tr>\n",
       "    <tr>\n",
       "      <th>2004-01-20</th>\n",
       "      <td>2004-01-17</td>\n",
       "      <td>0.210000</td>\n",
       "      <td>10528.66</td>\n",
       "      <td>10528.7</td>\n",
       "      <td>60</td>\n",
       "    </tr>\n",
       "    <tr>\n",
       "      <th>2004-01-26</th>\n",
       "      <td>2004-01-24</td>\n",
       "      <td>0.210000</td>\n",
       "      <td>10702.51</td>\n",
       "      <td>10702.5</td>\n",
       "      <td>61</td>\n",
       "    </tr>\n",
       "    <tr>\n",
       "      <th>2004-02-02</th>\n",
       "      <td>2004-01-31</td>\n",
       "      <td>0.213333</td>\n",
       "      <td>10499.18</td>\n",
       "      <td>10499.2</td>\n",
       "      <td>63</td>\n",
       "    </tr>\n",
       "    <tr>\n",
       "      <th>2004-02-09</th>\n",
       "      <td>2004-02-07</td>\n",
       "      <td>0.200000</td>\n",
       "      <td>10579.03</td>\n",
       "      <td>10579.0</td>\n",
       "      <td>61</td>\n",
       "    </tr>\n",
       "  </tbody>\n",
       "</table>\n",
       "</div>"
      ],
      "text/plain": [
       "             GoogleWE     debtP  DJIAClose    Close  debtO\n",
       "Date                                                      \n",
       "2004-01-12 2004-01-10  0.210000   10485.18  10485.2     63\n",
       "2004-01-20 2004-01-17  0.210000   10528.66  10528.7     60\n",
       "2004-01-26 2004-01-24  0.210000   10702.51  10702.5     61\n",
       "2004-02-02 2004-01-31  0.213333   10499.18  10499.2     63\n",
       "2004-02-09 2004-02-07  0.200000   10579.03  10579.0     61"
      ]
     },
     "execution_count": 59,
     "metadata": {},
     "output_type": "execute_result"
    }
   ],
   "source": [
    "final = pd.merge(data.reset_index(), our_debt_trends, \n",
    "                 left_on='GoogleWE', right_on='Week',\n",
    "                 suffixes=['P', 'O'])\n",
    "final.drop('Week', inplace=True, axis=1)\n",
    "final.set_index('Date', inplace=True)\n",
    "final[:5]"
   ]
  },
  {
   "cell_type": "markdown",
   "metadata": {},
   "source": [
    "We can create a new DataFrame with the normalized trend data from both the paper and our trend data (indexed by GoogleWE) and check to see how closely our trend data correlates with that used in the paper:"
   ]
  },
  {
   "cell_type": "code",
   "execution_count": 60,
   "metadata": {},
   "outputs": [
    {
     "data": {
      "text/html": [
       "<div>\n",
       "<style scoped>\n",
       "    .dataframe tbody tr th:only-of-type {\n",
       "        vertical-align: middle;\n",
       "    }\n",
       "\n",
       "    .dataframe tbody tr th {\n",
       "        vertical-align: top;\n",
       "    }\n",
       "\n",
       "    .dataframe thead th {\n",
       "        text-align: right;\n",
       "    }\n",
       "</style>\n",
       "<table border=\"1\" class=\"dataframe\">\n",
       "  <thead>\n",
       "    <tr style=\"text-align: right;\">\n",
       "      <th></th>\n",
       "      <th>debtP</th>\n",
       "      <th>debtO</th>\n",
       "    </tr>\n",
       "    <tr>\n",
       "      <th>GoogleWE</th>\n",
       "      <th></th>\n",
       "      <th></th>\n",
       "    </tr>\n",
       "  </thead>\n",
       "  <tbody>\n",
       "    <tr>\n",
       "      <th>2004-01-10</th>\n",
       "      <td>0.210000</td>\n",
       "      <td>63</td>\n",
       "    </tr>\n",
       "    <tr>\n",
       "      <th>2004-01-17</th>\n",
       "      <td>0.210000</td>\n",
       "      <td>60</td>\n",
       "    </tr>\n",
       "    <tr>\n",
       "      <th>2004-01-24</th>\n",
       "      <td>0.210000</td>\n",
       "      <td>61</td>\n",
       "    </tr>\n",
       "    <tr>\n",
       "      <th>2004-01-31</th>\n",
       "      <td>0.213333</td>\n",
       "      <td>63</td>\n",
       "    </tr>\n",
       "    <tr>\n",
       "      <th>2004-02-07</th>\n",
       "      <td>0.200000</td>\n",
       "      <td>61</td>\n",
       "    </tr>\n",
       "  </tbody>\n",
       "</table>\n",
       "</div>"
      ],
      "text/plain": [
       "               debtP  debtO\n",
       "GoogleWE                   \n",
       "2004-01-10  0.210000     63\n",
       "2004-01-17  0.210000     60\n",
       "2004-01-24  0.210000     61\n",
       "2004-01-31  0.213333     63\n",
       "2004-02-07  0.200000     61"
      ]
     },
     "execution_count": 60,
     "metadata": {},
     "output_type": "execute_result"
    }
   ],
   "source": [
    "combined_trends = final[['GoogleWE', 'debtP', 'debtO']] \\\n",
    "                        .set_index('GoogleWE')\n",
    "combined_trends[:5]"
   ]
  },
  {
   "cell_type": "markdown",
   "metadata": {},
   "source": [
    "A correlation between these series shows that they are highly correlated. There is some difference as the data retrieved from Google is constantly renormalized and will cause small differences in the trend data that was captured earlier:"
   ]
  },
  {
   "cell_type": "code",
   "execution_count": 61,
   "metadata": {},
   "outputs": [
    {
     "data": {
      "text/html": [
       "<div>\n",
       "<style scoped>\n",
       "    .dataframe tbody tr th:only-of-type {\n",
       "        vertical-align: middle;\n",
       "    }\n",
       "\n",
       "    .dataframe tbody tr th {\n",
       "        vertical-align: top;\n",
       "    }\n",
       "\n",
       "    .dataframe thead th {\n",
       "        text-align: right;\n",
       "    }\n",
       "</style>\n",
       "<table border=\"1\" class=\"dataframe\">\n",
       "  <thead>\n",
       "    <tr style=\"text-align: right;\">\n",
       "      <th></th>\n",
       "      <th>debtP</th>\n",
       "      <th>debtO</th>\n",
       "    </tr>\n",
       "  </thead>\n",
       "  <tbody>\n",
       "    <tr>\n",
       "      <th>debtP</th>\n",
       "      <td>1.00000</td>\n",
       "      <td>0.95766</td>\n",
       "    </tr>\n",
       "    <tr>\n",
       "      <th>debtO</th>\n",
       "      <td>0.95766</td>\n",
       "      <td>1.00000</td>\n",
       "    </tr>\n",
       "  </tbody>\n",
       "</table>\n",
       "</div>"
      ],
      "text/plain": [
       "         debtP    debtO\n",
       "debtP  1.00000  0.95766\n",
       "debtO  0.95766  1.00000"
      ]
     },
     "execution_count": 61,
     "metadata": {},
     "output_type": "execute_result"
    }
   ],
   "source": [
    "#correlation\n",
    "combined_trends.corr()"
   ]
  },
  {
   "cell_type": "markdown",
   "metadata": {},
   "source": [
    "Plotting these two against each other, we can see they are very closely correlated:"
   ]
  },
  {
   "cell_type": "code",
   "execution_count": 63,
   "metadata": {},
   "outputs": [
    {
     "data": {
      "image/png": "[encoded data removed]",
      "text/plain": [
       "<Figure size 864x576 with 2 Axes>"
      ]
     },
     "metadata": {
      "needs_background": "light"
     },
     "output_type": "display_data"
    }
   ],
   "source": [
    "# visualize them together\n",
    "fig, ax1 = plt.subplots(figsize=(12,8))\n",
    "ax1.plot(combined_trends.index,\n",
    "         combined_trends.debtP, color='b')\n",
    "ax2 = ax1.twinx()\n",
    "ax2.plot(combined_trends.index,\n",
    "         combined_trends.debtO, color='r')\n",
    "#plt.savefig('5104OS_06_05.png', bbox_inches='tight', dpi=300)\n",
    "plt.show()\n"
   ]
  },
  {
   "cell_type": "markdown",
   "metadata": {},
   "source": [
    "# Generating order signals\n",
    "In the trading strategy that we will define, we want to be able to decide whether there is enough movement in the volume of searches on debt to go and execute a trade in the market that will make us a profit. The paper defines this threshold as though there is a higher search volume at the end of a Google Trends week than in the previous three-week average of the search volume, and then we will go short. If there is a decline, we will go long the following week.\n",
    "\n",
    "The first thing we will need to do is reorganize our data by moving the GoogleWE dates into the index. We are going to make our decisions based upon these week-ending dates and use the Close price in an associated record as the basis for our trade as that price represents the Close price at the beginning of the next week. We also drop the DJIAClose column as it is redundant with Close:"
   ]
  },
  {
   "cell_type": "code",
   "execution_count": 64,
   "metadata": {},
   "outputs": [
    {
     "data": {
      "text/html": [
       "<div>\n",
       "<style scoped>\n",
       "    .dataframe tbody tr th:only-of-type {\n",
       "        vertical-align: middle;\n",
       "    }\n",
       "\n",
       "    .dataframe tbody tr th {\n",
       "        vertical-align: top;\n",
       "    }\n",
       "\n",
       "    .dataframe thead th {\n",
       "        text-align: right;\n",
       "    }\n",
       "</style>\n",
       "<table border=\"1\" class=\"dataframe\">\n",
       "  <thead>\n",
       "    <tr style=\"text-align: right;\">\n",
       "      <th></th>\n",
       "      <th>Date</th>\n",
       "      <th>debtP</th>\n",
       "      <th>Close</th>\n",
       "      <th>debtO</th>\n",
       "    </tr>\n",
       "    <tr>\n",
       "      <th>GoogleWE</th>\n",
       "      <th></th>\n",
       "      <th></th>\n",
       "      <th></th>\n",
       "      <th></th>\n",
       "    </tr>\n",
       "  </thead>\n",
       "  <tbody>\n",
       "    <tr>\n",
       "      <th>2004-01-10</th>\n",
       "      <td>2004-01-12</td>\n",
       "      <td>0.21</td>\n",
       "      <td>10485.2</td>\n",
       "      <td>63</td>\n",
       "    </tr>\n",
       "    <tr>\n",
       "      <th>2004-01-17</th>\n",
       "      <td>2004-01-20</td>\n",
       "      <td>0.21</td>\n",
       "      <td>10528.7</td>\n",
       "      <td>60</td>\n",
       "    </tr>\n",
       "    <tr>\n",
       "      <th>2004-01-24</th>\n",
       "      <td>2004-01-26</td>\n",
       "      <td>0.21</td>\n",
       "      <td>10702.5</td>\n",
       "      <td>61</td>\n",
       "    </tr>\n",
       "  </tbody>\n",
       "</table>\n",
       "</div>"
      ],
      "text/plain": [
       "                 Date  debtP    Close  debtO\n",
       "GoogleWE                                    \n",
       "2004-01-10 2004-01-12   0.21  10485.2     63\n",
       "2004-01-17 2004-01-20   0.21  10528.7     60\n",
       "2004-01-24 2004-01-26   0.21  10702.5     61"
      ]
     },
     "execution_count": 64,
     "metadata": {},
     "output_type": "execute_result"
    }
   ],
   "source": [
    "base = final.reset_index().set_index('GoogleWE')\n",
    "base.drop(['DJIAClose'], inplace=True, axis=1)\n",
    "base[:3]"
   ]
  },
  {
   "cell_type": "markdown",
   "metadata": {},
   "source": [
    "We now need to calculate the moving average of the previous three weeks for each week. This is easily performed with pandas, and the following command will compute the moving average for both the trends provided in the paper and the data we just collected from Google Trends:"
   ]
  },
  {
   "cell_type": "code",
   "execution_count": 107,
   "metadata": {},
   "outputs": [
    {
     "data": {
      "text/html": [
       "<div>\n",
       "<style scoped>\n",
       "    .dataframe tbody tr th:only-of-type {\n",
       "        vertical-align: middle;\n",
       "    }\n",
       "\n",
       "    .dataframe tbody tr th {\n",
       "        vertical-align: top;\n",
       "    }\n",
       "\n",
       "    .dataframe thead th {\n",
       "        text-align: right;\n",
       "    }\n",
       "</style>\n",
       "<table border=\"1\" class=\"dataframe\">\n",
       "  <thead>\n",
       "    <tr style=\"text-align: right;\">\n",
       "      <th></th>\n",
       "      <th>Date</th>\n",
       "      <th>debtP</th>\n",
       "      <th>Close</th>\n",
       "      <th>debtO</th>\n",
       "      <th>PMA</th>\n",
       "      <th>OMA</th>\n",
       "    </tr>\n",
       "    <tr>\n",
       "      <th>GoogleWE</th>\n",
       "      <th></th>\n",
       "      <th></th>\n",
       "      <th></th>\n",
       "      <th></th>\n",
       "      <th></th>\n",
       "      <th></th>\n",
       "    </tr>\n",
       "  </thead>\n",
       "  <tbody>\n",
       "    <tr>\n",
       "      <th>2004-01-10</th>\n",
       "      <td>2004-01-12</td>\n",
       "      <td>0.210000</td>\n",
       "      <td>10485.2</td>\n",
       "      <td>63</td>\n",
       "      <td>NaN</td>\n",
       "      <td>NaN</td>\n",
       "    </tr>\n",
       "    <tr>\n",
       "      <th>2004-01-17</th>\n",
       "      <td>2004-01-20</td>\n",
       "      <td>0.210000</td>\n",
       "      <td>10528.7</td>\n",
       "      <td>60</td>\n",
       "      <td>NaN</td>\n",
       "      <td>NaN</td>\n",
       "    </tr>\n",
       "    <tr>\n",
       "      <th>2004-01-24</th>\n",
       "      <td>2004-01-26</td>\n",
       "      <td>0.210000</td>\n",
       "      <td>10702.5</td>\n",
       "      <td>61</td>\n",
       "      <td>NaN</td>\n",
       "      <td>NaN</td>\n",
       "    </tr>\n",
       "    <tr>\n",
       "      <th>2004-01-31</th>\n",
       "      <td>2004-02-02</td>\n",
       "      <td>0.213333</td>\n",
       "      <td>10499.2</td>\n",
       "      <td>63</td>\n",
       "      <td>0.210833</td>\n",
       "      <td>61.75</td>\n",
       "    </tr>\n",
       "    <tr>\n",
       "      <th>2004-02-07</th>\n",
       "      <td>2004-02-09</td>\n",
       "      <td>0.200000</td>\n",
       "      <td>10579.0</td>\n",
       "      <td>61</td>\n",
       "      <td>0.208667</td>\n",
       "      <td>61.60</td>\n",
       "    </tr>\n",
       "  </tbody>\n",
       "</table>\n",
       "</div>"
      ],
      "text/plain": [
       "                 Date     debtP    Close  debtO       PMA    OMA\n",
       "GoogleWE                                                        \n",
       "2004-01-10 2004-01-12  0.210000  10485.2     63       NaN    NaN\n",
       "2004-01-17 2004-01-20  0.210000  10528.7     60       NaN    NaN\n",
       "2004-01-24 2004-01-26  0.210000  10702.5     61       NaN    NaN\n",
       "2004-01-31 2004-02-02  0.213333  10499.2     63  0.210833  61.75\n",
       "2004-02-07 2004-02-09  0.200000  10579.0     61  0.208667  61.60"
      ]
     },
     "execution_count": 107,
     "metadata": {},
     "output_type": "execute_result"
    }
   ],
   "source": [
    "base['PMA']= base['debtP'].rolling(373, min_periods=4).mean()\n",
    "base['OMA'] =base['debtO'].rolling(373, min_periods=4).mean()\n",
    "base[:5]"
   ]
  },
  {
   "cell_type": "markdown",
   "metadata": {},
   "source": [
    "The code shifts the calculated values by one week. This is because we need the three previous weeks' rolling mean at each week. Not shifting would include the current week in the average, and we want to make decisions on the prior three.\n",
    "\n",
    "We now need to make a decision on how to execute based upon this information. This is referred to as generating order signals. The current organization of the data makes this simple to perform as we need to simply subtract the moving average from the current trend value for each week. If there is a decrease, we assign 1 as a value, and we assign -1 as a value in the opposite situation:"
   ]
  },
  {
   "cell_type": "code",
   "execution_count": 108,
   "metadata": {},
   "outputs": [
    {
     "data": {
      "text/html": [
       "<div>\n",
       "<style scoped>\n",
       "    .dataframe tbody tr th:only-of-type {\n",
       "        vertical-align: middle;\n",
       "    }\n",
       "\n",
       "    .dataframe tbody tr th {\n",
       "        vertical-align: top;\n",
       "    }\n",
       "\n",
       "    .dataframe thead th {\n",
       "        text-align: right;\n",
       "    }\n",
       "</style>\n",
       "<table border=\"1\" class=\"dataframe\">\n",
       "  <thead>\n",
       "    <tr style=\"text-align: right;\">\n",
       "      <th></th>\n",
       "      <th>debtP</th>\n",
       "      <th>PMA</th>\n",
       "      <th>signal0</th>\n",
       "      <th>debtO</th>\n",
       "      <th>OMA</th>\n",
       "      <th>signal1</th>\n",
       "    </tr>\n",
       "    <tr>\n",
       "      <th>GoogleWE</th>\n",
       "      <th></th>\n",
       "      <th></th>\n",
       "      <th></th>\n",
       "      <th></th>\n",
       "      <th></th>\n",
       "      <th></th>\n",
       "    </tr>\n",
       "  </thead>\n",
       "  <tbody>\n",
       "    <tr>\n",
       "      <th>2004-01-10</th>\n",
       "      <td>0.210000</td>\n",
       "      <td>NaN</td>\n",
       "      <td>0</td>\n",
       "      <td>63</td>\n",
       "      <td>NaN</td>\n",
       "      <td>0</td>\n",
       "    </tr>\n",
       "    <tr>\n",
       "      <th>2004-01-17</th>\n",
       "      <td>0.210000</td>\n",
       "      <td>NaN</td>\n",
       "      <td>0</td>\n",
       "      <td>60</td>\n",
       "      <td>NaN</td>\n",
       "      <td>0</td>\n",
       "    </tr>\n",
       "    <tr>\n",
       "      <th>2004-01-24</th>\n",
       "      <td>0.210000</td>\n",
       "      <td>NaN</td>\n",
       "      <td>0</td>\n",
       "      <td>61</td>\n",
       "      <td>NaN</td>\n",
       "      <td>0</td>\n",
       "    </tr>\n",
       "    <tr>\n",
       "      <th>2004-01-31</th>\n",
       "      <td>0.213333</td>\n",
       "      <td>0.210833</td>\n",
       "      <td>-1</td>\n",
       "      <td>63</td>\n",
       "      <td>61.750000</td>\n",
       "      <td>-1</td>\n",
       "    </tr>\n",
       "    <tr>\n",
       "      <th>2004-02-07</th>\n",
       "      <td>0.200000</td>\n",
       "      <td>0.208667</td>\n",
       "      <td>1</td>\n",
       "      <td>61</td>\n",
       "      <td>61.600000</td>\n",
       "      <td>1</td>\n",
       "    </tr>\n",
       "    <tr>\n",
       "      <th>...</th>\n",
       "      <td>...</td>\n",
       "      <td>...</td>\n",
       "      <td>...</td>\n",
       "      <td>...</td>\n",
       "      <td>...</td>\n",
       "      <td>...</td>\n",
       "    </tr>\n",
       "    <tr>\n",
       "      <th>2011-01-29</th>\n",
       "      <td>0.190000</td>\n",
       "      <td>0.195610</td>\n",
       "      <td>1</td>\n",
       "      <td>65</td>\n",
       "      <td>57.601626</td>\n",
       "      <td>-1</td>\n",
       "    </tr>\n",
       "    <tr>\n",
       "      <th>2011-02-05</th>\n",
       "      <td>0.176667</td>\n",
       "      <td>0.195559</td>\n",
       "      <td>1</td>\n",
       "      <td>57</td>\n",
       "      <td>57.600000</td>\n",
       "      <td>1</td>\n",
       "    </tr>\n",
       "    <tr>\n",
       "      <th>2011-02-12</th>\n",
       "      <td>0.173333</td>\n",
       "      <td>0.195499</td>\n",
       "      <td>1</td>\n",
       "      <td>58</td>\n",
       "      <td>57.601078</td>\n",
       "      <td>-1</td>\n",
       "    </tr>\n",
       "    <tr>\n",
       "      <th>2011-02-19</th>\n",
       "      <td>0.180000</td>\n",
       "      <td>0.195457</td>\n",
       "      <td>1</td>\n",
       "      <td>64</td>\n",
       "      <td>57.618280</td>\n",
       "      <td>-1</td>\n",
       "    </tr>\n",
       "    <tr>\n",
       "      <th>2011-02-26</th>\n",
       "      <td>0.170000</td>\n",
       "      <td>0.195389</td>\n",
       "      <td>1</td>\n",
       "      <td>58</td>\n",
       "      <td>57.619303</td>\n",
       "      <td>-1</td>\n",
       "    </tr>\n",
       "  </tbody>\n",
       "</table>\n",
       "<p>373 rows × 6 columns</p>\n",
       "</div>"
      ],
      "text/plain": [
       "               debtP       PMA  signal0  debtO        OMA  signal1\n",
       "GoogleWE                                                          \n",
       "2004-01-10  0.210000       NaN        0     63        NaN        0\n",
       "2004-01-17  0.210000       NaN        0     60        NaN        0\n",
       "2004-01-24  0.210000       NaN        0     61        NaN        0\n",
       "2004-01-31  0.213333  0.210833       -1     63  61.750000       -1\n",
       "2004-02-07  0.200000  0.208667        1     61  61.600000        1\n",
       "...              ...       ...      ...    ...        ...      ...\n",
       "2011-01-29  0.190000  0.195610        1     65  57.601626       -1\n",
       "2011-02-05  0.176667  0.195559        1     57  57.600000        1\n",
       "2011-02-12  0.173333  0.195499        1     58  57.601078       -1\n",
       "2011-02-19  0.180000  0.195457        1     64  57.618280       -1\n",
       "2011-02-26  0.170000  0.195389        1     58  57.619303       -1\n",
       "\n",
       "[373 rows x 6 columns]"
      ]
     },
     "execution_count": 108,
     "metadata": {},
     "output_type": "execute_result"
    }
   ],
   "source": [
    "# calculate the order signals\n",
    "# for the papers data\n",
    "base['signal0'] = 0 # default to 0\n",
    "base.loc[base.debtP > base.PMA, 'signal0'] = -1 \n",
    "base.loc[base.debtP < base.PMA, 'signal0'] = 1\n",
    "\n",
    "# and for our trend data\n",
    "base['signal1'] = 0\n",
    "base.loc[base.debtO > base.OMA, 'signal1'] = -1\n",
    "base.loc[base.debtO < base.OMA, 'signal1'] = 1\n",
    "base[['debtP', 'PMA', 'signal0', 'debtO', 'OMA', 'signal1']]"
   ]
  },
  {
   "cell_type": "markdown",
   "metadata": {},
   "source": [
    "The trade signals based on our data are very similar but have slight differences due to the difference in the normalization of the data."
   ]
  },
  {
   "cell_type": "markdown",
   "metadata": {},
   "source": [
    "# Computing returns\n",
    "Every week, we will reinvest the entirety of our portfolio. Because of this, the return on the investment over the week will be reflected simply by the percentage change in the DJIA between the close of the first Monday and the close of the following Monday, but with the factor taken into account on whether we went short or long.\n",
    "\n",
    "We have already accounted for going short or long using -1 or 1 for the signal, respectively. Now, we just need to calculate the percentage change, shift it by one week back in time, and multiply it by the signal value. We shift the percentage change back one week as we want to multiply the signal value for the current week by the next percentage change from the next week:"
   ]
  },
  {
   "cell_type": "code",
   "execution_count": 109,
   "metadata": {},
   "outputs": [
    {
     "data": {
      "text/html": [
       "<div>\n",
       "<style scoped>\n",
       "    .dataframe tbody tr th:only-of-type {\n",
       "        vertical-align: middle;\n",
       "    }\n",
       "\n",
       "    .dataframe tbody tr th {\n",
       "        vertical-align: top;\n",
       "    }\n",
       "\n",
       "    .dataframe thead th {\n",
       "        text-align: right;\n",
       "    }\n",
       "</style>\n",
       "<table border=\"1\" class=\"dataframe\">\n",
       "  <thead>\n",
       "    <tr style=\"text-align: right;\">\n",
       "      <th></th>\n",
       "      <th>Close</th>\n",
       "      <th>PctChg</th>\n",
       "      <th>signal0</th>\n",
       "      <th>signal1</th>\n",
       "    </tr>\n",
       "    <tr>\n",
       "      <th>GoogleWE</th>\n",
       "      <th></th>\n",
       "      <th></th>\n",
       "      <th></th>\n",
       "      <th></th>\n",
       "    </tr>\n",
       "  </thead>\n",
       "  <tbody>\n",
       "    <tr>\n",
       "      <th>2004-01-10</th>\n",
       "      <td>10485.2</td>\n",
       "      <td>0.004149</td>\n",
       "      <td>0</td>\n",
       "      <td>0</td>\n",
       "    </tr>\n",
       "    <tr>\n",
       "      <th>2004-01-17</th>\n",
       "      <td>10528.7</td>\n",
       "      <td>0.016507</td>\n",
       "      <td>0</td>\n",
       "      <td>0</td>\n",
       "    </tr>\n",
       "    <tr>\n",
       "      <th>2004-01-24</th>\n",
       "      <td>10702.5</td>\n",
       "      <td>-0.018996</td>\n",
       "      <td>0</td>\n",
       "      <td>0</td>\n",
       "    </tr>\n",
       "    <tr>\n",
       "      <th>2004-01-31</th>\n",
       "      <td>10499.2</td>\n",
       "      <td>0.007601</td>\n",
       "      <td>-1</td>\n",
       "      <td>-1</td>\n",
       "    </tr>\n",
       "    <tr>\n",
       "      <th>2004-02-07</th>\n",
       "      <td>10579.0</td>\n",
       "      <td>0.012846</td>\n",
       "      <td>1</td>\n",
       "      <td>1</td>\n",
       "    </tr>\n",
       "  </tbody>\n",
       "</table>\n",
       "</div>"
      ],
      "text/plain": [
       "              Close    PctChg  signal0  signal1\n",
       "GoogleWE                                       \n",
       "2004-01-10  10485.2  0.004149        0        0\n",
       "2004-01-17  10528.7  0.016507        0        0\n",
       "2004-01-24  10702.5 -0.018996        0        0\n",
       "2004-01-31  10499.2  0.007601       -1       -1\n",
       "2004-02-07  10579.0  0.012846        1        1"
      ]
     },
     "execution_count": 109,
     "metadata": {},
     "output_type": "execute_result"
    }
   ],
   "source": [
    "base['PctChg'] = base.Close.pct_change().shift(-1)\n",
    "base[['Close', 'PctChg', 'signal0', 'signal1']][:5]"
   ]
  },
  {
   "cell_type": "markdown",
   "metadata": {},
   "source": [
    "To calculate the returns gained each week, we simply multiply the signal value by the percentage change (we will do this for both signals for both sets of trends):"
   ]
  },
  {
   "cell_type": "code",
   "execution_count": 110,
   "metadata": {},
   "outputs": [
    {
     "data": {
      "text/html": [
       "<div>\n",
       "<style scoped>\n",
       "    .dataframe tbody tr th:only-of-type {\n",
       "        vertical-align: middle;\n",
       "    }\n",
       "\n",
       "    .dataframe tbody tr th {\n",
       "        vertical-align: top;\n",
       "    }\n",
       "\n",
       "    .dataframe thead th {\n",
       "        text-align: right;\n",
       "    }\n",
       "</style>\n",
       "<table border=\"1\" class=\"dataframe\">\n",
       "  <thead>\n",
       "    <tr style=\"text-align: right;\">\n",
       "      <th></th>\n",
       "      <th>Close</th>\n",
       "      <th>PctChg</th>\n",
       "      <th>signal0</th>\n",
       "      <th>signal1</th>\n",
       "      <th>ret0</th>\n",
       "      <th>ret1</th>\n",
       "    </tr>\n",
       "    <tr>\n",
       "      <th>GoogleWE</th>\n",
       "      <th></th>\n",
       "      <th></th>\n",
       "      <th></th>\n",
       "      <th></th>\n",
       "      <th></th>\n",
       "      <th></th>\n",
       "    </tr>\n",
       "  </thead>\n",
       "  <tbody>\n",
       "    <tr>\n",
       "      <th>2004-01-10</th>\n",
       "      <td>10485.2</td>\n",
       "      <td>0.004149</td>\n",
       "      <td>0</td>\n",
       "      <td>0</td>\n",
       "      <td>0.000000</td>\n",
       "      <td>0.000000</td>\n",
       "    </tr>\n",
       "    <tr>\n",
       "      <th>2004-01-17</th>\n",
       "      <td>10528.7</td>\n",
       "      <td>0.016507</td>\n",
       "      <td>0</td>\n",
       "      <td>0</td>\n",
       "      <td>0.000000</td>\n",
       "      <td>0.000000</td>\n",
       "    </tr>\n",
       "    <tr>\n",
       "      <th>2004-01-24</th>\n",
       "      <td>10702.5</td>\n",
       "      <td>-0.018996</td>\n",
       "      <td>0</td>\n",
       "      <td>0</td>\n",
       "      <td>-0.000000</td>\n",
       "      <td>-0.000000</td>\n",
       "    </tr>\n",
       "    <tr>\n",
       "      <th>2004-01-31</th>\n",
       "      <td>10499.2</td>\n",
       "      <td>0.007601</td>\n",
       "      <td>-1</td>\n",
       "      <td>-1</td>\n",
       "      <td>-0.007601</td>\n",
       "      <td>-0.007601</td>\n",
       "    </tr>\n",
       "    <tr>\n",
       "      <th>2004-02-07</th>\n",
       "      <td>10579.0</td>\n",
       "      <td>0.012846</td>\n",
       "      <td>1</td>\n",
       "      <td>1</td>\n",
       "      <td>0.012846</td>\n",
       "      <td>0.012846</td>\n",
       "    </tr>\n",
       "  </tbody>\n",
       "</table>\n",
       "</div>"
      ],
      "text/plain": [
       "              Close    PctChg  signal0  signal1      ret0      ret1\n",
       "GoogleWE                                                           \n",
       "2004-01-10  10485.2  0.004149        0        0  0.000000  0.000000\n",
       "2004-01-17  10528.7  0.016507        0        0  0.000000  0.000000\n",
       "2004-01-24  10702.5 -0.018996        0        0 -0.000000 -0.000000\n",
       "2004-01-31  10499.2  0.007601       -1       -1 -0.007601 -0.007601\n",
       "2004-02-07  10579.0  0.012846        1        1  0.012846  0.012846"
      ]
     },
     "execution_count": 110,
     "metadata": {},
     "output_type": "execute_result"
    }
   ],
   "source": [
    "base['ret0'] = base.PctChg * base.signal0\n",
    "base['ret1'] = base.PctChg * base.signal1\n",
    "base[['Close', 'PctChg', 'signal0', 'signal1', \n",
    "         'ret0', 'ret1']][:5]"
   ]
  },
  {
   "cell_type": "markdown",
   "metadata": {},
   "source": [
    "# Cumulative returns and the result of the strategy\n",
    "We now have all the weekly returns based upon our strategy. We can calculate the overall net percentage return of the investments at the end by applying the cumulative product of 1 + base.ret0 (the return of each week) and then subtracting 1 from the cumulative product:"
   ]
  },
  {
   "cell_type": "code",
   "execution_count": 111,
   "metadata": {},
   "outputs": [
    {
     "data": {
      "text/html": [
       "<div>\n",
       "<style scoped>\n",
       "    .dataframe tbody tr th:only-of-type {\n",
       "        vertical-align: middle;\n",
       "    }\n",
       "\n",
       "    .dataframe tbody tr th {\n",
       "        vertical-align: top;\n",
       "    }\n",
       "\n",
       "    .dataframe thead th {\n",
       "        text-align: right;\n",
       "    }\n",
       "</style>\n",
       "<table border=\"1\" class=\"dataframe\">\n",
       "  <thead>\n",
       "    <tr style=\"text-align: right;\">\n",
       "      <th></th>\n",
       "      <th>cumret0</th>\n",
       "      <th>cumret1</th>\n",
       "    </tr>\n",
       "    <tr>\n",
       "      <th>GoogleWE</th>\n",
       "      <th></th>\n",
       "      <th></th>\n",
       "    </tr>\n",
       "  </thead>\n",
       "  <tbody>\n",
       "    <tr>\n",
       "      <th>2004-01-10</th>\n",
       "      <td>0.000000</td>\n",
       "      <td>0.000000</td>\n",
       "    </tr>\n",
       "    <tr>\n",
       "      <th>2004-01-17</th>\n",
       "      <td>0.000000</td>\n",
       "      <td>0.000000</td>\n",
       "    </tr>\n",
       "    <tr>\n",
       "      <th>2004-01-24</th>\n",
       "      <td>0.000000</td>\n",
       "      <td>0.000000</td>\n",
       "    </tr>\n",
       "    <tr>\n",
       "      <th>2004-01-31</th>\n",
       "      <td>-0.007601</td>\n",
       "      <td>-0.007601</td>\n",
       "    </tr>\n",
       "    <tr>\n",
       "      <th>2004-02-07</th>\n",
       "      <td>0.005148</td>\n",
       "      <td>0.005148</td>\n",
       "    </tr>\n",
       "    <tr>\n",
       "      <th>...</th>\n",
       "      <td>...</td>\n",
       "      <td>...</td>\n",
       "    </tr>\n",
       "    <tr>\n",
       "      <th>2011-01-29</th>\n",
       "      <td>0.604762</td>\n",
       "      <td>0.323522</td>\n",
       "    </tr>\n",
       "    <tr>\n",
       "      <th>2011-02-05</th>\n",
       "      <td>0.618828</td>\n",
       "      <td>0.335123</td>\n",
       "    </tr>\n",
       "    <tr>\n",
       "      <th>2011-02-12</th>\n",
       "      <td>0.611518</td>\n",
       "      <td>0.341152</td>\n",
       "    </tr>\n",
       "    <tr>\n",
       "      <th>2011-02-19</th>\n",
       "      <td>0.613299</td>\n",
       "      <td>0.339669</td>\n",
       "    </tr>\n",
       "    <tr>\n",
       "      <th>2011-02-26</th>\n",
       "      <td>NaN</td>\n",
       "      <td>NaN</td>\n",
       "    </tr>\n",
       "  </tbody>\n",
       "</table>\n",
       "<p>373 rows × 2 columns</p>\n",
       "</div>"
      ],
      "text/plain": [
       "             cumret0   cumret1\n",
       "GoogleWE                      \n",
       "2004-01-10  0.000000  0.000000\n",
       "2004-01-17  0.000000  0.000000\n",
       "2004-01-24  0.000000  0.000000\n",
       "2004-01-31 -0.007601 -0.007601\n",
       "2004-02-07  0.005148  0.005148\n",
       "...              ...       ...\n",
       "2011-01-29  0.604762  0.323522\n",
       "2011-02-05  0.618828  0.335123\n",
       "2011-02-12  0.611518  0.341152\n",
       "2011-02-19  0.613299  0.339669\n",
       "2011-02-26       NaN       NaN\n",
       "\n",
       "[373 rows x 2 columns]"
      ]
     },
     "execution_count": 111,
     "metadata": {},
     "output_type": "execute_result"
    }
   ],
   "source": [
    "base['cumret0'] = (1 + base.ret0).cumprod() - 1\n",
    "base['cumret1'] = (1 + base.ret1).cumprod() - 1\n",
    "base[['cumret0', 'cumret1']]"
   ]
  },
  {
   "cell_type": "markdown",
   "metadata": {},
   "source": [
    "At the end of our run of this strategy, we can see that we have made a profit. We now plot the returns based on the data from the paper:"
   ]
  },
  {
   "cell_type": "code",
   "execution_count": 137,
   "metadata": {},
   "outputs": [
    {
     "data": {
      "image/png": "[encoded data removed]",
      "text/plain": [
       "<Figure size 864x288 with 1 Axes>"
      ]
     },
     "metadata": {
      "needs_background": "light"
     },
     "output_type": "display_data"
    }
   ],
   "source": [
    "base['cumret0'].plot(figsize=(12,4), ylim=[-0.5,1.2]);"
   ]
  },
  {
   "cell_type": "markdown",
   "metadata": {},
   "source": [
    "This shows that our implementation of the strategy produces a very similar result to that published in the paper. We only obtained a 271 percent increase in value compared to their stated return of 326 percent, but the curve almost identically follows the same path as theirs. This suggests that our strategy executes similarly to theirs although there must be some slight differences in the calculations of some of the decisions. The important thing is you learned a number of concepts in pandas.\n",
    "\n",
    "When we used our own data from Google Trends, we still had gains but not to the extent they received using their trend data. We now plot the two sets of data using the following command:"
   ]
  },
  {
   "cell_type": "code",
   "execution_count": 135,
   "metadata": {},
   "outputs": [
    {
     "data": {
      "image/png": "[encoded data removed]",
      "text/plain": [
       "<Figure size 1152x576 with 1 Axes>"
      ]
     },
     "metadata": {
      "needs_background": "light"
     },
     "output_type": "display_data"
    }
   ],
   "source": [
    "base[['cumret0', 'cumret1']].plot(figsize=(16,8));"
   ]
  },
  {
   "cell_type": "markdown",
   "metadata": {},
   "source": [
    "Although the trend data we received from Google followed very similar paths, small differences in the data can be seen when examining the order signals that will make the accumulation of returns more modest. This is likely to be because there is an overall sensitivity around where the total change in volume of the search term is very close to 0, but the strategy still decides to execute one way or the other and causes returns to not grow as rapidly. But again, we are not analyzing the correctness of their results but seeing whether we can replicate the process and decision making using pandas."
   ]
  },
  {
   "cell_type": "markdown",
   "metadata": {},
   "source": [
    "# Summary\n",
    "In this session, we took an in-depth look at collecting a type of social data and using it to see whether we could identify trends in the data that can be correlated with market movements in order to gain an advantage over the general movement of the market. We did this by reproducing results from a published paper, which concludes that it is possible. We were able to reproduce very similar results and you learned a general process of analyzing data and making decisions on trading in the market.\n",
    "\n",
    "The best part of this is that during this process, you saw that pandas provides a very robust framework for financial time-series analysis as well as for the analysis of simple social data. You learned how to work with multiple time-series that have different frequencies and how to manipulate them to be able to have frequencies that can be aligned to be able to apply decisions made in one to execution in another. This included various concepts such as frequency conversion, grouping by year and day of week, generating signals based upon data, and shifting calculations back and forth to align properly to relate data at different periods to each other with simple pandas formulas.\n",
    "\n",
    "But there is also a lot that we did not cover. Our strategy was based purely on historical data and can lead to a look-ahead bias. It also did not cover the effects that our trades may have on the actual market. It did not factor in transaction costs. Perhaps most significantly, we did not perform the simulation of alternative strategies.\n",
    "\n",
    "In the upcoming sessions, we will dive into each of these concepts (and more). In the next session on algorithmic trading, we will start to look at more elaborate strategies for investing in the market where we do not have perfect knowledge, need to learn on the fly, and make decisions based on imperfect data."
   ]
  }
 ],
 "metadata": {
  "kernelspec": {
   "display_name": "Python 3",
   "language": "python",
   "name": "python3"
  },
  "language_info": {
   "codemirror_mode": {
    "name": "ipython",
    "version": 3
   },
   "file_extension": ".py",
   "mimetype": "text/x-python",
   "name": "python",
   "nbconvert_exporter": "python",
   "pygments_lexer": "ipython3",
   "version": "3.7.6"
  }
 },
 "nbformat": 4,
 "nbformat_minor": 4
}
